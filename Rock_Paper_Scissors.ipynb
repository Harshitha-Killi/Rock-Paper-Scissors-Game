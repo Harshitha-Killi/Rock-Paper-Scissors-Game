{
  "nbformat": 4,
  "nbformat_minor": 0,
  "metadata": {
    "colab": {
      "provenance": [],
      "authorship_tag": "ABX9TyNJHFpJgZknT93i88wO2GeO",
      "include_colab_link": true
    },
    "kernelspec": {
      "name": "python3",
      "display_name": "Python 3"
    },
    "language_info": {
      "name": "python"
    }
  },
  "cells": [
    {
      "cell_type": "markdown",
      "metadata": {
        "id": "view-in-github",
        "colab_type": "text"
      },
      "source": [
        "<a href=\"https://colab.research.google.com/github/Harshitha-Killi/Rock-Paper-Scissors-Game/blob/main/Rock_Paper_Scissors.ipynb\" target=\"_parent\"><img src=\"https://colab.research.google.com/assets/colab-badge.svg\" alt=\"Open In Colab\"/></a>"
      ]
    },
    {
      "cell_type": "code",
      "source": [
        "import random\n",
        "\n",
        "def get_choices():\n",
        "  player_choice= input(\"Enter a choice (Rock, Paper, Scissors): \")\n",
        "\n",
        "  options= [\"Rock\", \"Paper\", \"Scissors\"]\n",
        "  computer_choice= random.choice(options)\n",
        "\n",
        "  choices={\"player\":player_choice,\"computer\":computer_choice}\n",
        "  return choices\n",
        "\n",
        "def check_win(player, computer):\n",
        "\n",
        "  #print(\"\\nYou chose: \" + player + \", computer chose: \" + computer + \" .\")\n",
        "  print(f\"You chose: {player} \\nComputer chose: {computer}\\n\")\n",
        "\n",
        "  if player==computer:\n",
        "    return \"It is a tie!\"\n",
        "\n",
        "  elif player==\"Rock\":\n",
        "    if computer==\"Scissors\":\n",
        "      return \"Rock smashes the Scissors! You win!\"\n",
        "    else:\n",
        "      return \"Paper covers rock! You lose!\"\n",
        "\n",
        "  elif player==\"Paper\":\n",
        "    if computer==\"Scissors\":\n",
        "      return \"Scissors cuts the Paper! You lose!\"\n",
        "    else:\n",
        "      return \"Paper covers rock! You win!\"\n",
        "\n",
        "  elif player==\"Scissors\":\n",
        "    if computer==\"Rock\":\n",
        "      return \"Rock smashes the Scissors! You lose!\"\n",
        "    else:\n",
        "      return \"Scissors cuts the Paper! You lose!\"\n",
        "\n",
        "  else:\n",
        "    return \"Invalid input\"\n",
        "\n",
        "\n",
        "  return [player, computer]\n",
        "\n",
        "\n",
        "choices=get_choices()\n",
        "result= check_win(choices[\"player\"], choices[\"computer\"])\n",
        "print (\"\\n\"+result)\n",
        "\n"
      ],
      "metadata": {
        "colab": {
          "base_uri": "https://localhost:8080/"
        },
        "id": "BwgWkhFSkWCz",
        "outputId": "34e14949-932e-43fc-9769-4a50ce56bda0"
      },
      "execution_count": 35,
      "outputs": [
        {
          "output_type": "stream",
          "name": "stdout",
          "text": [
            "Enter a choice (Rock, Paper, Scissors): Rock\n",
            "You chose: Rock \n",
            "Computer chose: Paper\n",
            "\n",
            "\n",
            "Paper covers rock! You lose!\n"
          ]
        }
      ]
    }
  ]
}