{
  "nbformat": 4,
  "nbformat_minor": 0,
  "metadata": {
    "colab": {
      "provenance": [],
      "authorship_tag": "ABX9TyMVZEcmX/MClHjUBgyRNXEy",
      "include_colab_link": true
    },
    "kernelspec": {
      "name": "python3",
      "display_name": "Python 3"
    },
    "language_info": {
      "name": "python"
    }
  },
  "cells": [
    {
      "cell_type": "markdown",
      "metadata": {
        "id": "view-in-github",
        "colab_type": "text"
      },
      "source": [
        "<a href=\"https://colab.research.google.com/github/Harshitha-Killi/Rock-Paper-Scissors-Game/blob/main/Game.ipynb\" target=\"_parent\"><img src=\"https://colab.research.google.com/assets/colab-badge.svg\" alt=\"Open In Colab\"/></a>"
      ]
    },
    {
      "cell_type": "code",
      "execution_count": 11,
      "metadata": {
        "id": "s4_x83zg3AN7"
      },
      "outputs": [],
      "source": [
        "import random\n",
        "\n",
        "def get_choices(): #function in python\n",
        "#indentation defines level: select and press tab\n",
        "  player_choice= input(\"Enter a choice (rock, paper, scissors: \") #input from player\n",
        "\n",
        "  options=[\"rock\",\"paper\",\"scissors\"] #list consists of multiple strings:for computer\n",
        "  computer_choice=random.choice(options)\n",
        "\n",
        "  choices= {'player':player_choice,'computer':computer_choice}\n",
        "#dictionery is used to store key value pairs\n",
        "  return choices\n",
        "\n",
        "def check_win(player, computer): #inpiuts to functions are called arguments\n",
        "  return[player,computer]\n",
        "\n",
        "\n",
        "\n"
      ]
    }
  ]
}